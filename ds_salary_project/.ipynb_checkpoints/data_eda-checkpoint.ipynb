{
 "cells": [
  {
   "cell_type": "code",
   "execution_count": 1,
   "id": "f164aff2",
   "metadata": {},
   "outputs": [],
   "source": [
    "import pandas as pd\n",
    "import numpy as np\n",
    "import matplotlib.pyplot as plt \n",
    "import seaborn as sns"
   ]
  },
  {
   "cell_type": "code",
   "execution_count": 2,
   "id": "d3593fb9",
   "metadata": {},
   "outputs": [],
   "source": [
    "df = pd.read_csv('data_cleaned.csv')"
   ]
  },
  {
   "cell_type": "code",
   "execution_count": 3,
   "id": "f8027a98",
   "metadata": {},
   "outputs": [
    {
     "data": {
      "text/html": [
       "<div>\n",
       "<style scoped>\n",
       "    .dataframe tbody tr th:only-of-type {\n",
       "        vertical-align: middle;\n",
       "    }\n",
       "\n",
       "    .dataframe tbody tr th {\n",
       "        vertical-align: top;\n",
       "    }\n",
       "\n",
       "    .dataframe thead th {\n",
       "        text-align: right;\n",
       "    }\n",
       "</style>\n",
       "<table border=\"1\" class=\"dataframe\">\n",
       "  <thead>\n",
       "    <tr style=\"text-align: right;\">\n",
       "      <th></th>\n",
       "      <th>Job Title</th>\n",
       "      <th>Salary Estimate</th>\n",
       "      <th>Job Description</th>\n",
       "      <th>Rating</th>\n",
       "      <th>Company Name</th>\n",
       "      <th>Location</th>\n",
       "      <th>Size</th>\n",
       "      <th>Founded</th>\n",
       "      <th>Type of ownership</th>\n",
       "      <th>Industry</th>\n",
       "      <th>...</th>\n",
       "      <th>Max Salary</th>\n",
       "      <th>avg_salary</th>\n",
       "      <th>job_state</th>\n",
       "      <th>age</th>\n",
       "      <th>python</th>\n",
       "      <th>excel</th>\n",
       "      <th>sql</th>\n",
       "      <th>Private</th>\n",
       "      <th>Public</th>\n",
       "      <th>desc_len</th>\n",
       "    </tr>\n",
       "  </thead>\n",
       "  <tbody>\n",
       "    <tr>\n",
       "      <th>0</th>\n",
       "      <td>Data Analyst I</td>\n",
       "      <td>$41K - $55K (Glassdoor est.)</td>\n",
       "      <td>Job Summary:\\nIf you live in or around the San...</td>\n",
       "      <td>4.3</td>\n",
       "      <td>Firstmark Credit Union</td>\n",
       "      <td>San Antonio, TX</td>\n",
       "      <td>201 to 500 Employees</td>\n",
       "      <td>1932</td>\n",
       "      <td>Private</td>\n",
       "      <td>Banking &amp; Lending</td>\n",
       "      <td>...</td>\n",
       "      <td>55.0</td>\n",
       "      <td>48.0</td>\n",
       "      <td>TX</td>\n",
       "      <td>91</td>\n",
       "      <td>0</td>\n",
       "      <td>0</td>\n",
       "      <td>0</td>\n",
       "      <td>1</td>\n",
       "      <td>0</td>\n",
       "      <td>870</td>\n",
       "    </tr>\n",
       "    <tr>\n",
       "      <th>1</th>\n",
       "      <td>Reporting Data Analyst</td>\n",
       "      <td>$64K - $92K (Glassdoor est.)</td>\n",
       "      <td>Medlogix, LLC delivers innovative medical clai...</td>\n",
       "      <td>2.6</td>\n",
       "      <td>MEDLOGIX LLC</td>\n",
       "      <td>Lansdale, PA</td>\n",
       "      <td>Unknown</td>\n",
       "      <td>-1</td>\n",
       "      <td>Private</td>\n",
       "      <td>Insurance Carriers</td>\n",
       "      <td>...</td>\n",
       "      <td>92.0</td>\n",
       "      <td>78.0</td>\n",
       "      <td>PA</td>\n",
       "      <td>-1</td>\n",
       "      <td>0</td>\n",
       "      <td>0</td>\n",
       "      <td>0</td>\n",
       "      <td>1</td>\n",
       "      <td>0</td>\n",
       "      <td>1004</td>\n",
       "    </tr>\n",
       "    <tr>\n",
       "      <th>2</th>\n",
       "      <td>Junior Data Analyst</td>\n",
       "      <td>$45K - $69K (Glassdoor est.)</td>\n",
       "      <td>Hintz and Co is a boutique full service media ...</td>\n",
       "      <td>3.8</td>\n",
       "      <td>Hintz and Co</td>\n",
       "      <td>Los Angeles, CA</td>\n",
       "      <td>1 to 50 Employees</td>\n",
       "      <td>1979</td>\n",
       "      <td>Private</td>\n",
       "      <td>Architectural &amp; Engineering Services</td>\n",
       "      <td>...</td>\n",
       "      <td>69.0</td>\n",
       "      <td>57.0</td>\n",
       "      <td>CA</td>\n",
       "      <td>44</td>\n",
       "      <td>0</td>\n",
       "      <td>0</td>\n",
       "      <td>0</td>\n",
       "      <td>1</td>\n",
       "      <td>0</td>\n",
       "      <td>875</td>\n",
       "    </tr>\n",
       "    <tr>\n",
       "      <th>3</th>\n",
       "      <td>Data Analyst(SQL)</td>\n",
       "      <td>$64K - $106K (Glassdoor est.)</td>\n",
       "      <td>Job Title: Data Analyst (SQL)\\nJob Summary: We...</td>\n",
       "      <td>4.1</td>\n",
       "      <td>Leading Torch LLC</td>\n",
       "      <td>Plano, TX</td>\n",
       "      <td>1 to 50 Employees</td>\n",
       "      <td>-1</td>\n",
       "      <td>Private</td>\n",
       "      <td>-1</td>\n",
       "      <td>...</td>\n",
       "      <td>106.0</td>\n",
       "      <td>85.0</td>\n",
       "      <td>TX</td>\n",
       "      <td>-1</td>\n",
       "      <td>0</td>\n",
       "      <td>0</td>\n",
       "      <td>1</td>\n",
       "      <td>1</td>\n",
       "      <td>0</td>\n",
       "      <td>749</td>\n",
       "    </tr>\n",
       "    <tr>\n",
       "      <th>4</th>\n",
       "      <td>Data Analyst (Jr.)</td>\n",
       "      <td>$80K - $100K (Employer est.)</td>\n",
       "      <td>Department of Veterans Affairs experience? Do ...</td>\n",
       "      <td>4.0</td>\n",
       "      <td>Ben Allegretti Consulting BAC</td>\n",
       "      <td>Washington, DC</td>\n",
       "      <td>Unknown</td>\n",
       "      <td>2007</td>\n",
       "      <td>NaN</td>\n",
       "      <td>National Agencies</td>\n",
       "      <td>...</td>\n",
       "      <td>100.0</td>\n",
       "      <td>90.0</td>\n",
       "      <td>DC</td>\n",
       "      <td>16</td>\n",
       "      <td>0</td>\n",
       "      <td>0</td>\n",
       "      <td>0</td>\n",
       "      <td>0</td>\n",
       "      <td>0</td>\n",
       "      <td>1240</td>\n",
       "    </tr>\n",
       "  </tbody>\n",
       "</table>\n",
       "<p>5 rows × 25 columns</p>\n",
       "</div>"
      ],
      "text/plain": [
       "                Job Title                Salary Estimate  \\\n",
       "0          Data Analyst I   $41K - $55K (Glassdoor est.)   \n",
       "1  Reporting Data Analyst   $64K - $92K (Glassdoor est.)   \n",
       "2     Junior Data Analyst   $45K - $69K (Glassdoor est.)   \n",
       "3       Data Analyst(SQL)  $64K - $106K (Glassdoor est.)   \n",
       "4      Data Analyst (Jr.)   $80K - $100K (Employer est.)   \n",
       "\n",
       "                                     Job Description  Rating  \\\n",
       "0  Job Summary:\\nIf you live in or around the San...     4.3   \n",
       "1  Medlogix, LLC delivers innovative medical clai...     2.6   \n",
       "2  Hintz and Co is a boutique full service media ...     3.8   \n",
       "3  Job Title: Data Analyst (SQL)\\nJob Summary: We...     4.1   \n",
       "4  Department of Veterans Affairs experience? Do ...     4.0   \n",
       "\n",
       "                    Company Name         Location                  Size  \\\n",
       "0         Firstmark Credit Union  San Antonio, TX  201 to 500 Employees   \n",
       "1                   MEDLOGIX LLC     Lansdale, PA               Unknown   \n",
       "2                   Hintz and Co  Los Angeles, CA     1 to 50 Employees   \n",
       "3              Leading Torch LLC        Plano, TX     1 to 50 Employees   \n",
       "4  Ben Allegretti Consulting BAC   Washington, DC               Unknown   \n",
       "\n",
       "   Founded Type of ownership                              Industry  ...  \\\n",
       "0     1932           Private                     Banking & Lending  ...   \n",
       "1       -1           Private                    Insurance Carriers  ...   \n",
       "2     1979           Private  Architectural & Engineering Services  ...   \n",
       "3       -1           Private                                    -1  ...   \n",
       "4     2007               NaN                     National Agencies  ...   \n",
       "\n",
       "  Max Salary avg_salary  job_state  age  python  excel  sql Private  Public  \\\n",
       "0       55.0       48.0         TX   91       0      0    0       1       0   \n",
       "1       92.0       78.0         PA   -1       0      0    0       1       0   \n",
       "2       69.0       57.0         CA   44       0      0    0       1       0   \n",
       "3      106.0       85.0         TX   -1       0      0    1       1       0   \n",
       "4      100.0       90.0         DC   16       0      0    0       0       0   \n",
       "\n",
       "   desc_len  \n",
       "0       870  \n",
       "1      1004  \n",
       "2       875  \n",
       "3       749  \n",
       "4      1240  \n",
       "\n",
       "[5 rows x 25 columns]"
      ]
     },
     "execution_count": 3,
     "metadata": {},
     "output_type": "execute_result"
    }
   ],
   "source": [
    "df.head()"
   ]
  },
  {
   "cell_type": "code",
   "execution_count": 4,
   "id": "38f3b102",
   "metadata": {},
   "outputs": [
    {
     "data": {
      "text/plain": [
       "Index(['Job Title', 'Salary Estimate', 'Job Description', 'Rating',\n",
       "       'Company Name', 'Location', 'Size', 'Founded', 'Type of ownership',\n",
       "       'Industry', 'Sector', 'Revenue', 'hourly', 'employer_provided',\n",
       "       'Min Salary', 'Max Salary', 'avg_salary', 'job_state', 'age', 'python',\n",
       "       'excel', 'sql', 'Private', 'Public', 'desc_len'],\n",
       "      dtype='object')"
      ]
     },
     "execution_count": 4,
     "metadata": {},
     "output_type": "execute_result"
    }
   ],
   "source": [
    "df.columns"
   ]
  },
  {
   "cell_type": "code",
   "execution_count": 5,
   "id": "f5c46bba",
   "metadata": {},
   "outputs": [],
   "source": [
    "def seniority(title):\n",
    "    if 'sr.' in title.lower() or 'senior' in title.lower() or 'lead' in title.lower() or 'principal' in title.lower() or 'head' in title.lower():\n",
    "            return 'senior'\n",
    "    elif 'jr' in title.lower() or 'jr.' in title.lower() or 'junior' in title.lower():\n",
    "        return 'jr'\n",
    "    else:\n",
    "        return 'na'\n",
    "    \n",
    "def title_simplifier(title):\n",
    "    if 'data scientist' in title.lower():\n",
    "        return 'data scientist'\n",
    "    elif 'data engineer' in title.lower():\n",
    "        return 'data engineer'\n",
    "    elif 'analyst' in title.lower():\n",
    "        return 'analyst'\n",
    "    elif 'machine learning' in title.lower():\n",
    "        return 'mle'\n",
    "    elif 'manager' in title.lower():\n",
    "        return 'manager'\n",
    "    elif 'director' in title.lower():\n",
    "        return 'director'\n",
    "    else:\n",
    "        return 'na'    "
   ]
  },
  {
   "cell_type": "code",
   "execution_count": 6,
   "id": "8d1b9ce5",
   "metadata": {},
   "outputs": [],
   "source": [
    "df['job_simp'] = df['Job Title'].apply(title_simplifier)"
   ]
  },
  {
   "cell_type": "code",
   "execution_count": 7,
   "id": "108ab160",
   "metadata": {},
   "outputs": [
    {
     "data": {
      "text/plain": [
       "analyst    192\n",
       "Name: job_simp, dtype: int64"
      ]
     },
     "execution_count": 7,
     "metadata": {},
     "output_type": "execute_result"
    }
   ],
   "source": [
    "df.job_simp.value_counts()"
   ]
  },
  {
   "cell_type": "code",
   "execution_count": 8,
   "id": "5de01eda",
   "metadata": {},
   "outputs": [
    {
     "data": {
      "text/plain": [
       "na        175\n",
       "jr         15\n",
       "senior      2\n",
       "Name: seniority, dtype: int64"
      ]
     },
     "execution_count": 8,
     "metadata": {},
     "output_type": "execute_result"
    }
   ],
   "source": [
    "df['seniority'] = df['Job Title'].apply(seniority)\n",
    "df.seniority.value_counts()"
   ]
  },
  {
   "cell_type": "code",
   "execution_count": 9,
   "id": "23e6e70f",
   "metadata": {},
   "outputs": [
    {
     "data": {
      "text/plain": [
       "0       870\n",
       "1      1004\n",
       "2       875\n",
       "3       749\n",
       "4      1240\n",
       "       ... \n",
       "187     956\n",
       "188     775\n",
       "189    1061\n",
       "190     870\n",
       "191    1248\n",
       "Name: desc_len, Length: 192, dtype: int64"
      ]
     },
     "execution_count": 9,
     "metadata": {},
     "output_type": "execute_result"
    }
   ],
   "source": [
    "#  Job description length \n",
    "df['desc_len'] = df['Job Description'].apply(lambda x: len(x))\n",
    "df['desc_len']"
   ]
  },
  {
   "cell_type": "code",
   "execution_count": 10,
   "id": "cb952711",
   "metadata": {},
   "outputs": [
    {
     "data": {
      "text/html": [
       "<div>\n",
       "<style scoped>\n",
       "    .dataframe tbody tr th:only-of-type {\n",
       "        vertical-align: middle;\n",
       "    }\n",
       "\n",
       "    .dataframe tbody tr th {\n",
       "        vertical-align: top;\n",
       "    }\n",
       "\n",
       "    .dataframe thead th {\n",
       "        text-align: right;\n",
       "    }\n",
       "</style>\n",
       "<table border=\"1\" class=\"dataframe\">\n",
       "  <thead>\n",
       "    <tr style=\"text-align: right;\">\n",
       "      <th></th>\n",
       "      <th>hourly</th>\n",
       "      <th>Min Salary</th>\n",
       "      <th>Max Salary</th>\n",
       "    </tr>\n",
       "  </thead>\n",
       "  <tbody>\n",
       "    <tr>\n",
       "      <th>5</th>\n",
       "      <td>1</td>\n",
       "      <td>NaN</td>\n",
       "      <td>NaN</td>\n",
       "    </tr>\n",
       "    <tr>\n",
       "      <th>9</th>\n",
       "      <td>1</td>\n",
       "      <td>58.00</td>\n",
       "      <td>60.00</td>\n",
       "    </tr>\n",
       "    <tr>\n",
       "      <th>13</th>\n",
       "      <td>1</td>\n",
       "      <td>50.00</td>\n",
       "      <td>55.00</td>\n",
       "    </tr>\n",
       "    <tr>\n",
       "      <th>17</th>\n",
       "      <td>1</td>\n",
       "      <td>38.00</td>\n",
       "      <td>40.00</td>\n",
       "    </tr>\n",
       "    <tr>\n",
       "      <th>24</th>\n",
       "      <td>1</td>\n",
       "      <td>55.00</td>\n",
       "      <td>60.00</td>\n",
       "    </tr>\n",
       "    <tr>\n",
       "      <th>27</th>\n",
       "      <td>1</td>\n",
       "      <td>50.00</td>\n",
       "      <td>60.00</td>\n",
       "    </tr>\n",
       "    <tr>\n",
       "      <th>35</th>\n",
       "      <td>1</td>\n",
       "      <td>37.50</td>\n",
       "      <td>43.70</td>\n",
       "    </tr>\n",
       "    <tr>\n",
       "      <th>110</th>\n",
       "      <td>1</td>\n",
       "      <td>28.79</td>\n",
       "      <td>37.28</td>\n",
       "    </tr>\n",
       "    <tr>\n",
       "      <th>124</th>\n",
       "      <td>1</td>\n",
       "      <td>24.75</td>\n",
       "      <td>28.50</td>\n",
       "    </tr>\n",
       "    <tr>\n",
       "      <th>130</th>\n",
       "      <td>1</td>\n",
       "      <td>28.79</td>\n",
       "      <td>37.28</td>\n",
       "    </tr>\n",
       "    <tr>\n",
       "      <th>145</th>\n",
       "      <td>1</td>\n",
       "      <td>30.00</td>\n",
       "      <td>35.00</td>\n",
       "    </tr>\n",
       "    <tr>\n",
       "      <th>164</th>\n",
       "      <td>1</td>\n",
       "      <td>39.88</td>\n",
       "      <td>47.14</td>\n",
       "    </tr>\n",
       "  </tbody>\n",
       "</table>\n",
       "</div>"
      ],
      "text/plain": [
       "     hourly  Min Salary  Max Salary\n",
       "5         1         NaN         NaN\n",
       "9         1       58.00       60.00\n",
       "13        1       50.00       55.00\n",
       "17        1       38.00       40.00\n",
       "24        1       55.00       60.00\n",
       "27        1       50.00       60.00\n",
       "35        1       37.50       43.70\n",
       "110       1       28.79       37.28\n",
       "124       1       24.75       28.50\n",
       "130       1       28.79       37.28\n",
       "145       1       30.00       35.00\n",
       "164       1       39.88       47.14"
      ]
     },
     "execution_count": 10,
     "metadata": {},
     "output_type": "execute_result"
    }
   ],
   "source": [
    "df[df['hourly']==1][['hourly','Min Salary','Max Salary']]"
   ]
  },
  {
   "cell_type": "code",
   "execution_count": 11,
   "id": "4f240821",
   "metadata": {},
   "outputs": [
    {
     "data": {
      "text/html": [
       "<div>\n",
       "<style scoped>\n",
       "    .dataframe tbody tr th:only-of-type {\n",
       "        vertical-align: middle;\n",
       "    }\n",
       "\n",
       "    .dataframe tbody tr th {\n",
       "        vertical-align: top;\n",
       "    }\n",
       "\n",
       "    .dataframe thead th {\n",
       "        text-align: right;\n",
       "    }\n",
       "</style>\n",
       "<table border=\"1\" class=\"dataframe\">\n",
       "  <thead>\n",
       "    <tr style=\"text-align: right;\">\n",
       "      <th></th>\n",
       "      <th>hourly</th>\n",
       "      <th>Min Salary</th>\n",
       "      <th>Max Salary</th>\n",
       "    </tr>\n",
       "  </thead>\n",
       "  <tbody>\n",
       "    <tr>\n",
       "      <th>9</th>\n",
       "      <td>1</td>\n",
       "      <td>58.00</td>\n",
       "      <td>60.00</td>\n",
       "    </tr>\n",
       "    <tr>\n",
       "      <th>13</th>\n",
       "      <td>1</td>\n",
       "      <td>50.00</td>\n",
       "      <td>55.00</td>\n",
       "    </tr>\n",
       "    <tr>\n",
       "      <th>17</th>\n",
       "      <td>1</td>\n",
       "      <td>38.00</td>\n",
       "      <td>40.00</td>\n",
       "    </tr>\n",
       "    <tr>\n",
       "      <th>24</th>\n",
       "      <td>1</td>\n",
       "      <td>55.00</td>\n",
       "      <td>60.00</td>\n",
       "    </tr>\n",
       "    <tr>\n",
       "      <th>27</th>\n",
       "      <td>1</td>\n",
       "      <td>50.00</td>\n",
       "      <td>60.00</td>\n",
       "    </tr>\n",
       "    <tr>\n",
       "      <th>35</th>\n",
       "      <td>1</td>\n",
       "      <td>37.50</td>\n",
       "      <td>43.70</td>\n",
       "    </tr>\n",
       "    <tr>\n",
       "      <th>110</th>\n",
       "      <td>1</td>\n",
       "      <td>28.79</td>\n",
       "      <td>37.28</td>\n",
       "    </tr>\n",
       "    <tr>\n",
       "      <th>124</th>\n",
       "      <td>1</td>\n",
       "      <td>24.75</td>\n",
       "      <td>28.50</td>\n",
       "    </tr>\n",
       "    <tr>\n",
       "      <th>130</th>\n",
       "      <td>1</td>\n",
       "      <td>28.79</td>\n",
       "      <td>37.28</td>\n",
       "    </tr>\n",
       "    <tr>\n",
       "      <th>145</th>\n",
       "      <td>1</td>\n",
       "      <td>30.00</td>\n",
       "      <td>35.00</td>\n",
       "    </tr>\n",
       "    <tr>\n",
       "      <th>164</th>\n",
       "      <td>1</td>\n",
       "      <td>39.88</td>\n",
       "      <td>47.14</td>\n",
       "    </tr>\n",
       "  </tbody>\n",
       "</table>\n",
       "</div>"
      ],
      "text/plain": [
       "     hourly  Min Salary  Max Salary\n",
       "9         1       58.00       60.00\n",
       "13        1       50.00       55.00\n",
       "17        1       38.00       40.00\n",
       "24        1       55.00       60.00\n",
       "27        1       50.00       60.00\n",
       "35        1       37.50       43.70\n",
       "110       1       28.79       37.28\n",
       "124       1       24.75       28.50\n",
       "130       1       28.79       37.28\n",
       "145       1       30.00       35.00\n",
       "164       1       39.88       47.14"
      ]
     },
     "execution_count": 11,
     "metadata": {},
     "output_type": "execute_result"
    }
   ],
   "source": [
    "df = df.dropna(subset=['Min Salary', 'Max Salary'], how='all')\n",
    "df[df['hourly']==1][['hourly','Min Salary','Max Salary']]"
   ]
  },
  {
   "cell_type": "code",
   "execution_count": 12,
   "id": "de7668f2",
   "metadata": {},
   "outputs": [
    {
     "data": {
      "text/html": [
       "<div>\n",
       "<style scoped>\n",
       "    .dataframe tbody tr th:only-of-type {\n",
       "        vertical-align: middle;\n",
       "    }\n",
       "\n",
       "    .dataframe tbody tr th {\n",
       "        vertical-align: top;\n",
       "    }\n",
       "\n",
       "    .dataframe thead th {\n",
       "        text-align: right;\n",
       "    }\n",
       "</style>\n",
       "<table border=\"1\" class=\"dataframe\">\n",
       "  <thead>\n",
       "    <tr style=\"text-align: right;\">\n",
       "      <th></th>\n",
       "      <th>Rating</th>\n",
       "      <th>Founded</th>\n",
       "      <th>hourly</th>\n",
       "      <th>employer_provided</th>\n",
       "      <th>Min Salary</th>\n",
       "      <th>Max Salary</th>\n",
       "      <th>avg_salary</th>\n",
       "      <th>age</th>\n",
       "      <th>python</th>\n",
       "      <th>excel</th>\n",
       "      <th>sql</th>\n",
       "      <th>Private</th>\n",
       "      <th>Public</th>\n",
       "      <th>desc_len</th>\n",
       "    </tr>\n",
       "  </thead>\n",
       "  <tbody>\n",
       "    <tr>\n",
       "      <th>count</th>\n",
       "      <td>182.000000</td>\n",
       "      <td>182.000000</td>\n",
       "      <td>182.000000</td>\n",
       "      <td>182.0</td>\n",
       "      <td>182.000000</td>\n",
       "      <td>182.000000</td>\n",
       "      <td>182.000000</td>\n",
       "      <td>182.000000</td>\n",
       "      <td>182.000000</td>\n",
       "      <td>182.000000</td>\n",
       "      <td>182.000000</td>\n",
       "      <td>182.000000</td>\n",
       "      <td>182.000000</td>\n",
       "      <td>182.000000</td>\n",
       "    </tr>\n",
       "    <tr>\n",
       "      <th>mean</th>\n",
       "      <td>3.859341</td>\n",
       "      <td>1539.972527</td>\n",
       "      <td>0.060440</td>\n",
       "      <td>0.0</td>\n",
       "      <td>60.701703</td>\n",
       "      <td>85.763187</td>\n",
       "      <td>73.232445</td>\n",
       "      <td>49.098901</td>\n",
       "      <td>0.032967</td>\n",
       "      <td>0.104396</td>\n",
       "      <td>0.049451</td>\n",
       "      <td>0.510989</td>\n",
       "      <td>0.346154</td>\n",
       "      <td>1018.461538</td>\n",
       "    </tr>\n",
       "    <tr>\n",
       "      <th>std</th>\n",
       "      <td>0.713249</td>\n",
       "      <td>808.340052</td>\n",
       "      <td>0.238957</td>\n",
       "      <td>0.0</td>\n",
       "      <td>13.755991</td>\n",
       "      <td>22.745737</td>\n",
       "      <td>17.324954</td>\n",
       "      <td>53.914410</td>\n",
       "      <td>0.179043</td>\n",
       "      <td>0.306617</td>\n",
       "      <td>0.217405</td>\n",
       "      <td>0.501258</td>\n",
       "      <td>0.477055</td>\n",
       "      <td>575.880355</td>\n",
       "    </tr>\n",
       "    <tr>\n",
       "      <th>min</th>\n",
       "      <td>-1.000000</td>\n",
       "      <td>-1.000000</td>\n",
       "      <td>0.000000</td>\n",
       "      <td>0.0</td>\n",
       "      <td>24.750000</td>\n",
       "      <td>28.500000</td>\n",
       "      <td>26.625000</td>\n",
       "      <td>-1.000000</td>\n",
       "      <td>0.000000</td>\n",
       "      <td>0.000000</td>\n",
       "      <td>0.000000</td>\n",
       "      <td>0.000000</td>\n",
       "      <td>0.000000</td>\n",
       "      <td>81.000000</td>\n",
       "    </tr>\n",
       "    <tr>\n",
       "      <th>25%</th>\n",
       "      <td>3.700000</td>\n",
       "      <td>1857.000000</td>\n",
       "      <td>0.000000</td>\n",
       "      <td>0.0</td>\n",
       "      <td>52.000000</td>\n",
       "      <td>73.250000</td>\n",
       "      <td>63.000000</td>\n",
       "      <td>6.000000</td>\n",
       "      <td>0.000000</td>\n",
       "      <td>0.000000</td>\n",
       "      <td>0.000000</td>\n",
       "      <td>0.000000</td>\n",
       "      <td>0.000000</td>\n",
       "      <td>683.000000</td>\n",
       "    </tr>\n",
       "    <tr>\n",
       "      <th>50%</th>\n",
       "      <td>3.900000</td>\n",
       "      <td>1960.000000</td>\n",
       "      <td>0.000000</td>\n",
       "      <td>0.0</td>\n",
       "      <td>61.000000</td>\n",
       "      <td>86.000000</td>\n",
       "      <td>73.250000</td>\n",
       "      <td>28.000000</td>\n",
       "      <td>0.000000</td>\n",
       "      <td>0.000000</td>\n",
       "      <td>0.000000</td>\n",
       "      <td>1.000000</td>\n",
       "      <td>0.000000</td>\n",
       "      <td>870.000000</td>\n",
       "    </tr>\n",
       "    <tr>\n",
       "      <th>75%</th>\n",
       "      <td>4.200000</td>\n",
       "      <td>1998.000000</td>\n",
       "      <td>0.000000</td>\n",
       "      <td>0.0</td>\n",
       "      <td>69.000000</td>\n",
       "      <td>97.000000</td>\n",
       "      <td>83.375000</td>\n",
       "      <td>76.250000</td>\n",
       "      <td>0.000000</td>\n",
       "      <td>0.000000</td>\n",
       "      <td>0.000000</td>\n",
       "      <td>1.000000</td>\n",
       "      <td>1.000000</td>\n",
       "      <td>1153.000000</td>\n",
       "    </tr>\n",
       "    <tr>\n",
       "      <th>max</th>\n",
       "      <td>5.000000</td>\n",
       "      <td>2018.000000</td>\n",
       "      <td>1.000000</td>\n",
       "      <td>0.0</td>\n",
       "      <td>95.000000</td>\n",
       "      <td>169.000000</td>\n",
       "      <td>121.000000</td>\n",
       "      <td>203.000000</td>\n",
       "      <td>1.000000</td>\n",
       "      <td>1.000000</td>\n",
       "      <td>1.000000</td>\n",
       "      <td>1.000000</td>\n",
       "      <td>1.000000</td>\n",
       "      <td>3751.000000</td>\n",
       "    </tr>\n",
       "  </tbody>\n",
       "</table>\n",
       "</div>"
      ],
      "text/plain": [
       "           Rating      Founded      hourly  employer_provided  Min Salary  \\\n",
       "count  182.000000   182.000000  182.000000              182.0  182.000000   \n",
       "mean     3.859341  1539.972527    0.060440                0.0   60.701703   \n",
       "std      0.713249   808.340052    0.238957                0.0   13.755991   \n",
       "min     -1.000000    -1.000000    0.000000                0.0   24.750000   \n",
       "25%      3.700000  1857.000000    0.000000                0.0   52.000000   \n",
       "50%      3.900000  1960.000000    0.000000                0.0   61.000000   \n",
       "75%      4.200000  1998.000000    0.000000                0.0   69.000000   \n",
       "max      5.000000  2018.000000    1.000000                0.0   95.000000   \n",
       "\n",
       "       Max Salary  avg_salary         age      python       excel         sql  \\\n",
       "count  182.000000  182.000000  182.000000  182.000000  182.000000  182.000000   \n",
       "mean    85.763187   73.232445   49.098901    0.032967    0.104396    0.049451   \n",
       "std     22.745737   17.324954   53.914410    0.179043    0.306617    0.217405   \n",
       "min     28.500000   26.625000   -1.000000    0.000000    0.000000    0.000000   \n",
       "25%     73.250000   63.000000    6.000000    0.000000    0.000000    0.000000   \n",
       "50%     86.000000   73.250000   28.000000    0.000000    0.000000    0.000000   \n",
       "75%     97.000000   83.375000   76.250000    0.000000    0.000000    0.000000   \n",
       "max    169.000000  121.000000  203.000000    1.000000    1.000000    1.000000   \n",
       "\n",
       "          Private      Public     desc_len  \n",
       "count  182.000000  182.000000   182.000000  \n",
       "mean     0.510989    0.346154  1018.461538  \n",
       "std      0.501258    0.477055   575.880355  \n",
       "min      0.000000    0.000000    81.000000  \n",
       "25%      0.000000    0.000000   683.000000  \n",
       "50%      1.000000    0.000000   870.000000  \n",
       "75%      1.000000    1.000000  1153.000000  \n",
       "max      1.000000    1.000000  3751.000000  "
      ]
     },
     "execution_count": 12,
     "metadata": {},
     "output_type": "execute_result"
    }
   ],
   "source": [
    "df.describe()"
   ]
  },
  {
   "cell_type": "code",
   "execution_count": 13,
   "id": "2d5fc97f",
   "metadata": {},
   "outputs": [
    {
     "data": {
      "text/plain": [
       "<matplotlib.axes._subplots.AxesSubplot at 0x7feb3915c3a0>"
      ]
     },
     "execution_count": 13,
     "metadata": {},
     "output_type": "execute_result"
    },
    {
     "data": {
      "image/png": "[encoded data removed]",
      "text/plain": [
       "<Figure size 432x288 with 1 Axes>"
      ]
     },
     "metadata": {
      "needs_background": "light"
     },
     "output_type": "display_data"
    }
   ],
   "source": [
    "df.Rating.hist()"
   ]
  },
  {
   "cell_type": "code",
   "execution_count": 14,
   "id": "5ac65d4f",
   "metadata": {},
   "outputs": [
    {
     "data": {
      "text/plain": [
       "<matplotlib.axes._subplots.AxesSubplot at 0x7feb39226370>"
      ]
     },
     "execution_count": 14,
     "metadata": {},
     "output_type": "execute_result"
    },
    {
     "data": {
      "image/png": "[encoded data removed]",
      "text/plain": [
       "<Figure size 432x288 with 1 Axes>"
      ]
     },
     "metadata": {
      "needs_background": "light"
     },
     "output_type": "display_data"
    }
   ],
   "source": [
    "df.avg_salary.hist()"
   ]
  },
  {
   "cell_type": "code",
   "execution_count": 15,
   "id": "6f670985",
   "metadata": {},
   "outputs": [
    {
     "data": {
      "text/plain": [
       "<matplotlib.axes._subplots.AxesSubplot at 0x7feb392c4c70>"
      ]
     },
     "execution_count": 15,
     "metadata": {},
     "output_type": "execute_result"
    },
    {
     "data": {
      "image/png": "[encoded data removed]",
      "text/plain": [
       "<Figure size 432x288 with 1 Axes>"
      ]
     },
     "metadata": {
      "needs_background": "light"
     },
     "output_type": "display_data"
    }
   ],
   "source": [
    "df.age.hist()"
   ]
  },
  {
   "cell_type": "code",
   "execution_count": 16,
   "id": "10e5a4dc",
   "metadata": {},
   "outputs": [
    {
     "data": {
      "text/plain": [
       "<matplotlib.axes._subplots.AxesSubplot at 0x7feb3935aeb0>"
      ]
     },
     "execution_count": 16,
     "metadata": {},
     "output_type": "execute_result"
    },
    {
     "data": {
      "image/png": "[encoded data removed]",
      "text/plain": [
       "<Figure size 432x288 with 1 Axes>"
      ]
     },
     "metadata": {
      "needs_background": "light"
     },
     "output_type": "display_data"
    }
   ],
   "source": [
    "df.boxplot(column = ['age','avg_salary','Rating'])"
   ]
  },
  {
   "cell_type": "code",
   "execution_count": 17,
   "id": "31143cff",
   "metadata": {},
   "outputs": [
    {
     "data": {
      "text/plain": [
       "<matplotlib.axes._subplots.AxesSubplot at 0x7feb39488a60>"
      ]
     },
     "execution_count": 17,
     "metadata": {},
     "output_type": "execute_result"
    },
    {
     "data": {
      "image/png": "[encoded data removed]",
      "text/plain": [
       "<Figure size 432x288 with 1 Axes>"
      ]
     },
     "metadata": {
      "needs_background": "light"
     },
     "output_type": "display_data"
    }
   ],
   "source": [
    "df.boxplot(column='Rating')"
   ]
  },
  {
   "cell_type": "code",
   "execution_count": 18,
   "id": "1379a5ee",
   "metadata": {},
   "outputs": [
    {
     "data": {
      "text/html": [
       "<div>\n",
       "<style scoped>\n",
       "    .dataframe tbody tr th:only-of-type {\n",
       "        vertical-align: middle;\n",
       "    }\n",
       "\n",
       "    .dataframe tbody tr th {\n",
       "        vertical-align: top;\n",
       "    }\n",
       "\n",
       "    .dataframe thead th {\n",
       "        text-align: right;\n",
       "    }\n",
       "</style>\n",
       "<table border=\"1\" class=\"dataframe\">\n",
       "  <thead>\n",
       "    <tr style=\"text-align: right;\">\n",
       "      <th></th>\n",
       "      <th>age</th>\n",
       "      <th>avg_salary</th>\n",
       "      <th>Rating</th>\n",
       "      <th>desc_len</th>\n",
       "    </tr>\n",
       "  </thead>\n",
       "  <tbody>\n",
       "    <tr>\n",
       "      <th>age</th>\n",
       "      <td>1.000000</td>\n",
       "      <td>-0.173406</td>\n",
       "      <td>0.047445</td>\n",
       "      <td>0.061833</td>\n",
       "    </tr>\n",
       "    <tr>\n",
       "      <th>avg_salary</th>\n",
       "      <td>-0.173406</td>\n",
       "      <td>1.000000</td>\n",
       "      <td>0.209131</td>\n",
       "      <td>0.011085</td>\n",
       "    </tr>\n",
       "    <tr>\n",
       "      <th>Rating</th>\n",
       "      <td>0.047445</td>\n",
       "      <td>0.209131</td>\n",
       "      <td>1.000000</td>\n",
       "      <td>0.084998</td>\n",
       "    </tr>\n",
       "    <tr>\n",
       "      <th>desc_len</th>\n",
       "      <td>0.061833</td>\n",
       "      <td>0.011085</td>\n",
       "      <td>0.084998</td>\n",
       "      <td>1.000000</td>\n",
       "    </tr>\n",
       "  </tbody>\n",
       "</table>\n",
       "</div>"
      ],
      "text/plain": [
       "                 age  avg_salary    Rating  desc_len\n",
       "age         1.000000   -0.173406  0.047445  0.061833\n",
       "avg_salary -0.173406    1.000000  0.209131  0.011085\n",
       "Rating      0.047445    0.209131  1.000000  0.084998\n",
       "desc_len    0.061833    0.011085  0.084998  1.000000"
      ]
     },
     "execution_count": 18,
     "metadata": {},
     "output_type": "execute_result"
    }
   ],
   "source": [
    "df[['age','avg_salary','Rating','desc_len']].corr()"
   ]
  },
  {
   "cell_type": "code",
   "execution_count": 19,
   "id": "ca827689",
   "metadata": {},
   "outputs": [
    {
     "data": {
      "text/plain": [
       "<matplotlib.axes._subplots.AxesSubplot at 0x7feb3953f490>"
      ]
     },
     "execution_count": 19,
     "metadata": {},
     "output_type": "execute_result"
    },
    {
     "data": {
      "image/png": "[encoded data removed]",
      "text/plain": [
       "<Figure size 432x288 with 2 Axes>"
      ]
     },
     "metadata": {
      "needs_background": "light"
     },
     "output_type": "display_data"
    }
   ],
   "source": [
    "#correlation\n",
    "cmap = sns.diverging_palette(220, 10, as_cmap=True)\n",
    "sns.heatmap(df[['age','avg_salary','Rating','desc_len']].corr(),vmax=.3, center=0, cmap=cmap,\n",
    "            square=True, linewidths=.5, cbar_kws={\"shrink\": .5})\n",
    "\n",
    "# => From the heatmap,\n",
    "# => age and avg_salary are negatively correlated\n",
    "# => Rating and avg_salary are highly correlated "
   ]
  },
  {
   "cell_type": "code",
   "execution_count": 20,
   "id": "4b0c80d2",
   "metadata": {},
   "outputs": [
    {
     "name": "stdout",
     "output_type": "stream",
     "text": [
      "graph for Location: total = 76\n"
     ]
    },
    {
     "data": {
      "image/png": "[encoded data removed]",
      "text/plain": [
       "<Figure size 432x288 with 1 Axes>"
      ]
     },
     "metadata": {
      "needs_background": "light"
     },
     "output_type": "display_data"
    },
    {
     "name": "stdout",
     "output_type": "stream",
     "text": [
      "graph for Size: total = 9\n"
     ]
    },
    {
     "data": {
      "image/png": "[encoded data removed]",
      "text/plain": [
       "<Figure size 432x288 with 1 Axes>"
      ]
     },
     "metadata": {
      "needs_background": "light"
     },
     "output_type": "display_data"
    },
    {
     "name": "stdout",
     "output_type": "stream",
     "text": [
      "graph for Type of ownership: total = 3\n"
     ]
    },
    {
     "data": {
      "image/png": "[encoded data removed]",
      "text/plain": [
       "<Figure size 432x288 with 1 Axes>"
      ]
     },
     "metadata": {
      "needs_background": "light"
     },
     "output_type": "display_data"
    },
    {
     "name": "stdout",
     "output_type": "stream",
     "text": [
      "graph for Industry: total = 38\n"
     ]
    },
    {
     "data": {
      "image/png": "[encoded data removed]",
      "text/plain": [
       "<Figure size 432x288 with 1 Axes>"
      ]
     },
     "metadata": {
      "needs_background": "light"
     },
     "output_type": "display_data"
    },
    {
     "name": "stdout",
     "output_type": "stream",
     "text": [
      "graph for Sector: total = 21\n"
     ]
    },
    {
     "data": {
      "image/png": "[encoded data removed]",
      "text/plain": [
       "<Figure size 432x288 with 1 Axes>"
      ]
     },
     "metadata": {
      "needs_background": "light"
     },
     "output_type": "display_data"
    },
    {
     "name": "stdout",
     "output_type": "stream",
     "text": [
      "graph for Revenue: total = 11\n"
     ]
    },
    {
     "data": {
      "image/png": "[encoded data removed]",
      "text/plain": [
       "<Figure size 432x288 with 1 Axes>"
      ]
     },
     "metadata": {
      "needs_background": "light"
     },
     "output_type": "display_data"
    },
    {
     "name": "stdout",
     "output_type": "stream",
     "text": [
      "graph for Company Name: total = 89\n"
     ]
    },
    {
     "data": {
      "image/png": "[encoded data removed]",
      "text/plain": [
       "<Figure size 432x288 with 1 Axes>"
      ]
     },
     "metadata": {
      "needs_background": "light"
     },
     "output_type": "display_data"
    },
    {
     "name": "stdout",
     "output_type": "stream",
     "text": [
      "graph for job_state: total = 28\n"
     ]
    },
    {
     "data": {
      "image/png": "[encoded data removed]",
      "text/plain": [
       "<Figure size 432x288 with 1 Axes>"
      ]
     },
     "metadata": {
      "needs_background": "light"
     },
     "output_type": "display_data"
    },
    {
     "name": "stdout",
     "output_type": "stream",
     "text": [
      "graph for python: total = 2\n"
     ]
    },
    {
     "data": {
      "image/png": "[encoded data removed]",
      "text/plain": [
       "<Figure size 432x288 with 1 Axes>"
      ]
     },
     "metadata": {
      "needs_background": "light"
     },
     "output_type": "display_data"
    },
    {
     "name": "stdout",
     "output_type": "stream",
     "text": [
      "graph for sql: total = 2\n"
     ]
    },
    {
     "data": {
      "image/png": "[encoded data removed]",
      "text/plain": [
       "<Figure size 432x288 with 1 Axes>"
      ]
     },
     "metadata": {
      "needs_background": "light"
     },
     "output_type": "display_data"
    },
    {
     "name": "stdout",
     "output_type": "stream",
     "text": [
      "graph for excel: total = 2\n"
     ]
    },
    {
     "data": {
      "image/png": "[encoded data removed]",
      "text/plain": [
       "<Figure size 432x288 with 1 Axes>"
      ]
     },
     "metadata": {
      "needs_background": "light"
     },
     "output_type": "display_data"
    },
    {
     "name": "stdout",
     "output_type": "stream",
     "text": [
      "graph for job_simp: total = 1\n"
     ]
    },
    {
     "data": {
      "image/png": "[encoded data removed]",
      "text/plain": [
       "<Figure size 432x288 with 1 Axes>"
      ]
     },
     "metadata": {
      "needs_background": "light"
     },
     "output_type": "display_data"
    },
    {
     "name": "stdout",
     "output_type": "stream",
     "text": [
      "graph for seniority: total = 3\n"
     ]
    },
    {
     "data": {
      "image/png": "[encoded data removed]",
      "text/plain": [
       "<Figure size 432x288 with 1 Axes>"
      ]
     },
     "metadata": {
      "needs_background": "light"
     },
     "output_type": "display_data"
    }
   ],
   "source": [
    "df_cat = df[['Location', 'Size','Type of ownership', 'Industry', 'Sector', 'Revenue', 'Company Name', 'job_state', 'python', 'sql',\n",
    "       'excel', 'job_simp', 'seniority']]\n",
    "for i in df_cat.columns:\n",
    "    cat_num = df_cat[i].value_counts()\n",
    "    print(\"graph for %s: total = %d\" % (i, len(cat_num)))\n",
    "    chart = sns.barplot(x=cat_num.index, y=cat_num)\n",
    "    chart.set_xticklabels(chart.get_xticklabels(), rotation=90)\n",
    "    plt.show()"
   ]
  },
  {
   "cell_type": "code",
   "execution_count": 21,
   "id": "65fb304d",
   "metadata": {},
   "outputs": [
    {
     "data": {
      "text/plain": [
       "Index(['Job Title', 'Salary Estimate', 'Job Description', 'Rating',\n",
       "       'Company Name', 'Location', 'Size', 'Founded', 'Type of ownership',\n",
       "       'Industry', 'Sector', 'Revenue', 'hourly', 'employer_provided',\n",
       "       'Min Salary', 'Max Salary', 'avg_salary', 'job_state', 'age', 'python',\n",
       "       'excel', 'sql', 'Private', 'Public', 'desc_len', 'job_simp',\n",
       "       'seniority'],\n",
       "      dtype='object')"
      ]
     },
     "execution_count": 21,
     "metadata": {},
     "output_type": "execute_result"
    }
   ],
   "source": [
    "df.columns\n"
   ]
  },
  {
   "cell_type": "code",
   "execution_count": 31,
   "id": "124271f5",
   "metadata": {},
   "outputs": [
    {
     "data": {
      "text/html": [
       "<div>\n",
       "<style scoped>\n",
       "    .dataframe tbody tr th:only-of-type {\n",
       "        vertical-align: middle;\n",
       "    }\n",
       "\n",
       "    .dataframe tbody tr th {\n",
       "        vertical-align: top;\n",
       "    }\n",
       "\n",
       "    .dataframe thead th {\n",
       "        text-align: right;\n",
       "    }\n",
       "</style>\n",
       "<table border=\"1\" class=\"dataframe\">\n",
       "  <thead>\n",
       "    <tr style=\"text-align: right;\">\n",
       "      <th></th>\n",
       "      <th>avg_salary</th>\n",
       "    </tr>\n",
       "    <tr>\n",
       "      <th>Sector</th>\n",
       "      <th></th>\n",
       "    </tr>\n",
       "  </thead>\n",
       "  <tbody>\n",
       "    <tr>\n",
       "      <th>-1</th>\n",
       "      <td>68.607143</td>\n",
       "    </tr>\n",
       "    <tr>\n",
       "      <th>Aerospace &amp; Defense</th>\n",
       "      <td>66.000000</td>\n",
       "    </tr>\n",
       "    <tr>\n",
       "      <th>Agriculture</th>\n",
       "      <td>76.000000</td>\n",
       "    </tr>\n",
       "    <tr>\n",
       "      <th>Arts, Entertainment &amp; Recreation</th>\n",
       "      <td>62.125000</td>\n",
       "    </tr>\n",
       "    <tr>\n",
       "      <th>Construction, Repair &amp; Maintenance Services</th>\n",
       "      <td>63.666667</td>\n",
       "    </tr>\n",
       "    <tr>\n",
       "      <th>Education</th>\n",
       "      <td>64.944444</td>\n",
       "    </tr>\n",
       "    <tr>\n",
       "      <th>Energy, Mining &amp; Utilities</th>\n",
       "      <td>59.363636</td>\n",
       "    </tr>\n",
       "    <tr>\n",
       "      <th>Financial Services</th>\n",
       "      <td>67.343750</td>\n",
       "    </tr>\n",
       "    <tr>\n",
       "      <th>Government &amp; Public Administration</th>\n",
       "      <td>90.000000</td>\n",
       "    </tr>\n",
       "    <tr>\n",
       "      <th>Healthcare</th>\n",
       "      <td>65.861923</td>\n",
       "    </tr>\n",
       "    <tr>\n",
       "      <th>Information Technology</th>\n",
       "      <td>82.290698</td>\n",
       "    </tr>\n",
       "    <tr>\n",
       "      <th>Insurance</th>\n",
       "      <td>73.333333</td>\n",
       "    </tr>\n",
       "    <tr>\n",
       "      <th>Legal</th>\n",
       "      <td>40.600000</td>\n",
       "    </tr>\n",
       "    <tr>\n",
       "      <th>Management &amp; Consulting</th>\n",
       "      <td>79.625000</td>\n",
       "    </tr>\n",
       "    <tr>\n",
       "      <th>Manufacturing</th>\n",
       "      <td>66.062500</td>\n",
       "    </tr>\n",
       "    <tr>\n",
       "      <th>Media &amp; Communication</th>\n",
       "      <td>80.750000</td>\n",
       "    </tr>\n",
       "    <tr>\n",
       "      <th>Nonprofit &amp; NGO</th>\n",
       "      <td>99.000000</td>\n",
       "    </tr>\n",
       "    <tr>\n",
       "      <th>Personal Consumer Services</th>\n",
       "      <td>55.000000</td>\n",
       "    </tr>\n",
       "    <tr>\n",
       "      <th>Pharmaceutical &amp; Biotechnology</th>\n",
       "      <td>72.500000</td>\n",
       "    </tr>\n",
       "    <tr>\n",
       "      <th>Real Estate</th>\n",
       "      <td>90.500000</td>\n",
       "    </tr>\n",
       "    <tr>\n",
       "      <th>Retail &amp; Wholesale</th>\n",
       "      <td>79.777778</td>\n",
       "    </tr>\n",
       "  </tbody>\n",
       "</table>\n",
       "</div>"
      ],
      "text/plain": [
       "                                             avg_salary\n",
       "Sector                                                 \n",
       "-1                                            68.607143\n",
       "Aerospace & Defense                           66.000000\n",
       "Agriculture                                   76.000000\n",
       "Arts, Entertainment & Recreation              62.125000\n",
       "Construction, Repair & Maintenance Services   63.666667\n",
       "Education                                     64.944444\n",
       "Energy, Mining & Utilities                    59.363636\n",
       "Financial Services                            67.343750\n",
       "Government & Public Administration            90.000000\n",
       "Healthcare                                    65.861923\n",
       "Information Technology                        82.290698\n",
       "Insurance                                     73.333333\n",
       "Legal                                         40.600000\n",
       "Management & Consulting                       79.625000\n",
       "Manufacturing                                 66.062500\n",
       "Media & Communication                         80.750000\n",
       "Nonprofit & NGO                               99.000000\n",
       "Personal Consumer Services                    55.000000\n",
       "Pharmaceutical & Biotechnology                72.500000\n",
       "Real Estate                                   90.500000\n",
       "Retail & Wholesale                            79.777778"
      ]
     },
     "execution_count": 31,
     "metadata": {},
     "output_type": "execute_result"
    }
   ],
   "source": [
    "pd.pivot_table(df, index = ['Sector'], values = 'avg_salary')"
   ]
  },
  {
   "cell_type": "code",
   "execution_count": 32,
   "id": "9442cf65",
   "metadata": {},
   "outputs": [
    {
     "data": {
      "text/html": [
       "<div>\n",
       "<style scoped>\n",
       "    .dataframe tbody tr th:only-of-type {\n",
       "        vertical-align: middle;\n",
       "    }\n",
       "\n",
       "    .dataframe tbody tr th {\n",
       "        vertical-align: top;\n",
       "    }\n",
       "\n",
       "    .dataframe thead th {\n",
       "        text-align: right;\n",
       "    }\n",
       "</style>\n",
       "<table border=\"1\" class=\"dataframe\">\n",
       "  <thead>\n",
       "    <tr style=\"text-align: right;\">\n",
       "      <th></th>\n",
       "      <th>Job Title</th>\n",
       "      <th>Salary Estimate</th>\n",
       "      <th>Job Description</th>\n",
       "      <th>Rating</th>\n",
       "      <th>Company Name</th>\n",
       "      <th>Location</th>\n",
       "      <th>Size</th>\n",
       "      <th>Founded</th>\n",
       "      <th>Type of ownership</th>\n",
       "      <th>Industry</th>\n",
       "      <th>...</th>\n",
       "      <th>job_state</th>\n",
       "      <th>age</th>\n",
       "      <th>python</th>\n",
       "      <th>excel</th>\n",
       "      <th>sql</th>\n",
       "      <th>Private</th>\n",
       "      <th>Public</th>\n",
       "      <th>desc_len</th>\n",
       "      <th>job_simp</th>\n",
       "      <th>seniority</th>\n",
       "    </tr>\n",
       "  </thead>\n",
       "  <tbody>\n",
       "    <tr>\n",
       "      <th>0</th>\n",
       "      <td>Data Analyst I</td>\n",
       "      <td>$41K - $55K (Glassdoor est.)</td>\n",
       "      <td>Job Summary:\\nIf you live in or around the San...</td>\n",
       "      <td>4.3</td>\n",
       "      <td>Firstmark Credit Union</td>\n",
       "      <td>San Antonio, TX</td>\n",
       "      <td>201 to 500 Employees</td>\n",
       "      <td>1932</td>\n",
       "      <td>Private</td>\n",
       "      <td>Banking &amp; Lending</td>\n",
       "      <td>...</td>\n",
       "      <td>TX</td>\n",
       "      <td>91</td>\n",
       "      <td>0</td>\n",
       "      <td>0</td>\n",
       "      <td>0</td>\n",
       "      <td>1</td>\n",
       "      <td>0</td>\n",
       "      <td>870</td>\n",
       "      <td>analyst</td>\n",
       "      <td>na</td>\n",
       "    </tr>\n",
       "    <tr>\n",
       "      <th>1</th>\n",
       "      <td>Reporting Data Analyst</td>\n",
       "      <td>$64K - $92K (Glassdoor est.)</td>\n",
       "      <td>Medlogix, LLC delivers innovative medical clai...</td>\n",
       "      <td>2.6</td>\n",
       "      <td>MEDLOGIX LLC</td>\n",
       "      <td>Lansdale, PA</td>\n",
       "      <td>Unknown</td>\n",
       "      <td>-1</td>\n",
       "      <td>Private</td>\n",
       "      <td>Insurance Carriers</td>\n",
       "      <td>...</td>\n",
       "      <td>PA</td>\n",
       "      <td>-1</td>\n",
       "      <td>0</td>\n",
       "      <td>0</td>\n",
       "      <td>0</td>\n",
       "      <td>1</td>\n",
       "      <td>0</td>\n",
       "      <td>1004</td>\n",
       "      <td>analyst</td>\n",
       "      <td>na</td>\n",
       "    </tr>\n",
       "    <tr>\n",
       "      <th>2</th>\n",
       "      <td>Junior Data Analyst</td>\n",
       "      <td>$45K - $69K (Glassdoor est.)</td>\n",
       "      <td>Hintz and Co is a boutique full service media ...</td>\n",
       "      <td>3.8</td>\n",
       "      <td>Hintz and Co</td>\n",
       "      <td>Los Angeles, CA</td>\n",
       "      <td>1 to 50 Employees</td>\n",
       "      <td>1979</td>\n",
       "      <td>Private</td>\n",
       "      <td>Architectural &amp; Engineering Services</td>\n",
       "      <td>...</td>\n",
       "      <td>CA</td>\n",
       "      <td>44</td>\n",
       "      <td>0</td>\n",
       "      <td>0</td>\n",
       "      <td>0</td>\n",
       "      <td>1</td>\n",
       "      <td>0</td>\n",
       "      <td>875</td>\n",
       "      <td>analyst</td>\n",
       "      <td>jr</td>\n",
       "    </tr>\n",
       "    <tr>\n",
       "      <th>3</th>\n",
       "      <td>Data Analyst(SQL)</td>\n",
       "      <td>$64K - $106K (Glassdoor est.)</td>\n",
       "      <td>Job Title: Data Analyst (SQL)\\nJob Summary: We...</td>\n",
       "      <td>4.1</td>\n",
       "      <td>Leading Torch LLC</td>\n",
       "      <td>Plano, TX</td>\n",
       "      <td>1 to 50 Employees</td>\n",
       "      <td>-1</td>\n",
       "      <td>Private</td>\n",
       "      <td>-1</td>\n",
       "      <td>...</td>\n",
       "      <td>TX</td>\n",
       "      <td>-1</td>\n",
       "      <td>0</td>\n",
       "      <td>0</td>\n",
       "      <td>1</td>\n",
       "      <td>1</td>\n",
       "      <td>0</td>\n",
       "      <td>749</td>\n",
       "      <td>analyst</td>\n",
       "      <td>na</td>\n",
       "    </tr>\n",
       "    <tr>\n",
       "      <th>4</th>\n",
       "      <td>Data Analyst (Jr.)</td>\n",
       "      <td>$80K - $100K (Employer est.)</td>\n",
       "      <td>Department of Veterans Affairs experience? Do ...</td>\n",
       "      <td>4.0</td>\n",
       "      <td>Ben Allegretti Consulting BAC</td>\n",
       "      <td>Washington, DC</td>\n",
       "      <td>Unknown</td>\n",
       "      <td>2007</td>\n",
       "      <td>NaN</td>\n",
       "      <td>National Agencies</td>\n",
       "      <td>...</td>\n",
       "      <td>DC</td>\n",
       "      <td>16</td>\n",
       "      <td>0</td>\n",
       "      <td>0</td>\n",
       "      <td>0</td>\n",
       "      <td>0</td>\n",
       "      <td>0</td>\n",
       "      <td>1240</td>\n",
       "      <td>analyst</td>\n",
       "      <td>jr</td>\n",
       "    </tr>\n",
       "    <tr>\n",
       "      <th>...</th>\n",
       "      <td>...</td>\n",
       "      <td>...</td>\n",
       "      <td>...</td>\n",
       "      <td>...</td>\n",
       "      <td>...</td>\n",
       "      <td>...</td>\n",
       "      <td>...</td>\n",
       "      <td>...</td>\n",
       "      <td>...</td>\n",
       "      <td>...</td>\n",
       "      <td>...</td>\n",
       "      <td>...</td>\n",
       "      <td>...</td>\n",
       "      <td>...</td>\n",
       "      <td>...</td>\n",
       "      <td>...</td>\n",
       "      <td>...</td>\n",
       "      <td>...</td>\n",
       "      <td>...</td>\n",
       "      <td>...</td>\n",
       "      <td>...</td>\n",
       "    </tr>\n",
       "    <tr>\n",
       "      <th>187</th>\n",
       "      <td>Data Analyst</td>\n",
       "      <td>$49K - $70K (Glassdoor est.)</td>\n",
       "      <td>Chicago Fire Football Club is a Major League S...</td>\n",
       "      <td>3.8</td>\n",
       "      <td>Chicago Fire FC</td>\n",
       "      <td>Bridgeview, IL</td>\n",
       "      <td>51 to 200 Employees</td>\n",
       "      <td>-1</td>\n",
       "      <td>Private</td>\n",
       "      <td>Sports &amp; Recreation</td>\n",
       "      <td>...</td>\n",
       "      <td>IL</td>\n",
       "      <td>-1</td>\n",
       "      <td>0</td>\n",
       "      <td>0</td>\n",
       "      <td>0</td>\n",
       "      <td>1</td>\n",
       "      <td>0</td>\n",
       "      <td>956</td>\n",
       "      <td>analyst</td>\n",
       "      <td>na</td>\n",
       "    </tr>\n",
       "    <tr>\n",
       "      <th>188</th>\n",
       "      <td>Junior Data Analyst</td>\n",
       "      <td>$59K - $95K (Employer est.)</td>\n",
       "      <td>Junior Data Analyst\\nThis role is open to our ...</td>\n",
       "      <td>4.1</td>\n",
       "      <td>Hotwire Global</td>\n",
       "      <td>San Francisco, CA</td>\n",
       "      <td>201 to 500 Employees</td>\n",
       "      <td>2000</td>\n",
       "      <td>Public</td>\n",
       "      <td>Advertising &amp; Public Relations</td>\n",
       "      <td>...</td>\n",
       "      <td>CA</td>\n",
       "      <td>23</td>\n",
       "      <td>0</td>\n",
       "      <td>0</td>\n",
       "      <td>0</td>\n",
       "      <td>0</td>\n",
       "      <td>1</td>\n",
       "      <td>775</td>\n",
       "      <td>analyst</td>\n",
       "      <td>jr</td>\n",
       "    </tr>\n",
       "    <tr>\n",
       "      <th>189</th>\n",
       "      <td>Junior Business Analyst</td>\n",
       "      <td>$65K - $90K (Employer est.)</td>\n",
       "      <td>Who We Are: ThinkTek is a fast-growing Certifi...</td>\n",
       "      <td>5.0</td>\n",
       "      <td>ThinkTek LLC</td>\n",
       "      <td>Fairfax, VA</td>\n",
       "      <td>1 to 50 Employees</td>\n",
       "      <td>-1</td>\n",
       "      <td>Private</td>\n",
       "      <td>-1</td>\n",
       "      <td>...</td>\n",
       "      <td>VA</td>\n",
       "      <td>-1</td>\n",
       "      <td>0</td>\n",
       "      <td>0</td>\n",
       "      <td>0</td>\n",
       "      <td>1</td>\n",
       "      <td>0</td>\n",
       "      <td>1061</td>\n",
       "      <td>analyst</td>\n",
       "      <td>jr</td>\n",
       "    </tr>\n",
       "    <tr>\n",
       "      <th>190</th>\n",
       "      <td>Data Analyst</td>\n",
       "      <td>$67K - $100K (Glassdoor est.)</td>\n",
       "      <td>Aura is on a mission to create a safer interne...</td>\n",
       "      <td>4.3</td>\n",
       "      <td>Aura</td>\n",
       "      <td>Boston, MA</td>\n",
       "      <td>201 to 500 Employees</td>\n",
       "      <td>2017</td>\n",
       "      <td>Private</td>\n",
       "      <td>Software Development</td>\n",
       "      <td>...</td>\n",
       "      <td>MA</td>\n",
       "      <td>6</td>\n",
       "      <td>0</td>\n",
       "      <td>0</td>\n",
       "      <td>0</td>\n",
       "      <td>1</td>\n",
       "      <td>0</td>\n",
       "      <td>870</td>\n",
       "      <td>analyst</td>\n",
       "      <td>na</td>\n",
       "    </tr>\n",
       "    <tr>\n",
       "      <th>191</th>\n",
       "      <td>Data Analyst</td>\n",
       "      <td>$51K - $75K (Glassdoor est.)</td>\n",
       "      <td>Data Analyst:\\nAt Hamilton Beach Brands, Inc.,...</td>\n",
       "      <td>3.3</td>\n",
       "      <td>Hamilton Beach Brands Inc</td>\n",
       "      <td>Glen Allen, VA</td>\n",
       "      <td>201 to 500 Employees</td>\n",
       "      <td>1904</td>\n",
       "      <td>Public</td>\n",
       "      <td>Consumer Product Manufacturing</td>\n",
       "      <td>...</td>\n",
       "      <td>VA</td>\n",
       "      <td>119</td>\n",
       "      <td>0</td>\n",
       "      <td>0</td>\n",
       "      <td>0</td>\n",
       "      <td>0</td>\n",
       "      <td>1</td>\n",
       "      <td>1248</td>\n",
       "      <td>analyst</td>\n",
       "      <td>na</td>\n",
       "    </tr>\n",
       "  </tbody>\n",
       "</table>\n",
       "<p>182 rows × 27 columns</p>\n",
       "</div>"
      ],
      "text/plain": [
       "                   Job Title                Salary Estimate  \\\n",
       "0             Data Analyst I   $41K - $55K (Glassdoor est.)   \n",
       "1     Reporting Data Analyst   $64K - $92K (Glassdoor est.)   \n",
       "2        Junior Data Analyst   $45K - $69K (Glassdoor est.)   \n",
       "3          Data Analyst(SQL)  $64K - $106K (Glassdoor est.)   \n",
       "4         Data Analyst (Jr.)   $80K - $100K (Employer est.)   \n",
       "..                       ...                            ...   \n",
       "187             Data Analyst   $49K - $70K (Glassdoor est.)   \n",
       "188      Junior Data Analyst    $59K - $95K (Employer est.)   \n",
       "189  Junior Business Analyst    $65K - $90K (Employer est.)   \n",
       "190             Data Analyst  $67K - $100K (Glassdoor est.)   \n",
       "191             Data Analyst   $51K - $75K (Glassdoor est.)   \n",
       "\n",
       "                                       Job Description  Rating  \\\n",
       "0    Job Summary:\\nIf you live in or around the San...     4.3   \n",
       "1    Medlogix, LLC delivers innovative medical clai...     2.6   \n",
       "2    Hintz and Co is a boutique full service media ...     3.8   \n",
       "3    Job Title: Data Analyst (SQL)\\nJob Summary: We...     4.1   \n",
       "4    Department of Veterans Affairs experience? Do ...     4.0   \n",
       "..                                                 ...     ...   \n",
       "187  Chicago Fire Football Club is a Major League S...     3.8   \n",
       "188  Junior Data Analyst\\nThis role is open to our ...     4.1   \n",
       "189  Who We Are: ThinkTek is a fast-growing Certifi...     5.0   \n",
       "190  Aura is on a mission to create a safer interne...     4.3   \n",
       "191  Data Analyst:\\nAt Hamilton Beach Brands, Inc.,...     3.3   \n",
       "\n",
       "                      Company Name           Location                  Size  \\\n",
       "0           Firstmark Credit Union    San Antonio, TX  201 to 500 Employees   \n",
       "1                     MEDLOGIX LLC       Lansdale, PA               Unknown   \n",
       "2                     Hintz and Co    Los Angeles, CA     1 to 50 Employees   \n",
       "3                Leading Torch LLC          Plano, TX     1 to 50 Employees   \n",
       "4    Ben Allegretti Consulting BAC     Washington, DC               Unknown   \n",
       "..                             ...                ...                   ...   \n",
       "187                Chicago Fire FC     Bridgeview, IL   51 to 200 Employees   \n",
       "188                 Hotwire Global  San Francisco, CA  201 to 500 Employees   \n",
       "189                   ThinkTek LLC        Fairfax, VA     1 to 50 Employees   \n",
       "190                           Aura         Boston, MA  201 to 500 Employees   \n",
       "191      Hamilton Beach Brands Inc     Glen Allen, VA  201 to 500 Employees   \n",
       "\n",
       "     Founded Type of ownership                              Industry  ...  \\\n",
       "0       1932           Private                     Banking & Lending  ...   \n",
       "1         -1           Private                    Insurance Carriers  ...   \n",
       "2       1979           Private  Architectural & Engineering Services  ...   \n",
       "3         -1           Private                                    -1  ...   \n",
       "4       2007               NaN                     National Agencies  ...   \n",
       "..       ...               ...                                   ...  ...   \n",
       "187       -1           Private                   Sports & Recreation  ...   \n",
       "188     2000            Public        Advertising & Public Relations  ...   \n",
       "189       -1           Private                                    -1  ...   \n",
       "190     2017           Private                  Software Development  ...   \n",
       "191     1904            Public        Consumer Product Manufacturing  ...   \n",
       "\n",
       "    job_state  age  python  excel  sql  Private  Public desc_len  job_simp  \\\n",
       "0          TX   91       0      0    0        1       0      870   analyst   \n",
       "1          PA   -1       0      0    0        1       0     1004   analyst   \n",
       "2          CA   44       0      0    0        1       0      875   analyst   \n",
       "3          TX   -1       0      0    1        1       0      749   analyst   \n",
       "4          DC   16       0      0    0        0       0     1240   analyst   \n",
       "..        ...  ...     ...    ...  ...      ...     ...      ...       ...   \n",
       "187        IL   -1       0      0    0        1       0      956   analyst   \n",
       "188        CA   23       0      0    0        0       1      775   analyst   \n",
       "189        VA   -1       0      0    0        1       0     1061   analyst   \n",
       "190        MA    6       0      0    0        1       0      870   analyst   \n",
       "191        VA  119       0      0    0        0       1     1248   analyst   \n",
       "\n",
       "     seniority  \n",
       "0           na  \n",
       "1           na  \n",
       "2           jr  \n",
       "3           na  \n",
       "4           jr  \n",
       "..         ...  \n",
       "187         na  \n",
       "188         jr  \n",
       "189         jr  \n",
       "190         na  \n",
       "191         na  \n",
       "\n",
       "[182 rows x 27 columns]"
      ]
     },
     "execution_count": 32,
     "metadata": {},
     "output_type": "execute_result"
    }
   ],
   "source": [
    "df"
   ]
  },
  {
   "cell_type": "code",
   "execution_count": null,
   "id": "4d1da75e",
   "metadata": {},
   "outputs": [],
   "source": []
  }
 ],
 "metadata": {
  "kernelspec": {
   "display_name": "Python 3",
   "language": "python",
   "name": "python3"
  },
  "language_info": {
   "codemirror_mode": {
    "name": "ipython",
    "version": 3
   },
   "file_extension": ".py",
   "mimetype": "text/x-python",
   "name": "python",
   "nbconvert_exporter": "python",
   "pygments_lexer": "ipython3",
   "version": "3.8.5"
  }
 },
 "nbformat": 4,
 "nbformat_minor": 5
}
